{
 "metadata": {
  "name": "",
  "signature": "sha256:09cbc00fbcf15d6947098e1743a80177618b3c3db55907d567a9ba2122f55b49"
 },
 "nbformat": 3,
 "nbformat_minor": 0,
 "worksheets": [
  {
   "cells": [
    {
     "cell_type": "markdown",
     "metadata": {},
     "source": [
      "## The Key\n",
      "\n",
      "# SkillsWheel Data Cleaning\n",
      "\n",
      "Client Contact: [richard.fergie@yourpotentialunlocked.org.uk](\"mailto:richard.fergie@yourpotentialunlocked.org.uk\")  \n",
      "Ambassador: You [you@datakind.org](\"mailto:you@datakind.org\")  \n",
      "Date: Autumn 2014\n",
      "\n",
      "Brief investigation into data supplied by The Key for DataDive 2014\n",
      "\n",
      "\n",
      "#Contents\n",
      "\n",
      "+ [Setup](#Setup)  \n",
      "+ [Import Data](#Import-Data)\n",
      "+ [Explore Basics](#Explore-Basics)\n"
     ]
    },
    {
     "cell_type": "heading",
     "level": 1,
     "metadata": {},
     "source": [
      "Setup"
     ]
    },
    {
     "cell_type": "code",
     "collapsed": false,
     "input": [
      "## Interactive magics\n",
      "%matplotlib inline\n",
      "%qtconsole --colors=linux --ConsoleWidget.font_size=12 --ConsoleWidget.font_family='Consolas'"
     ],
     "language": "python",
     "metadata": {},
     "outputs": []
    },
    {
     "cell_type": "code",
     "collapsed": false,
     "input": [
      "## Libraries and global options\n",
      "from __future__ import division, print_function\n",
      "import string\n",
      "\n",
      "\n",
      "import pandas as pd\n",
      "import numpy as np\n",
      "import scipy as sp\n",
      "import matplotlib.pyplot as plt\n",
      "from matplotlib import cm\n",
      "\n",
      "# Set some default pandas and plotting formatting\n",
      "pd.set_option('display.mpl_style', 'default')\n",
      "pd.set_option('display.notebook_repr_html', True)\n",
      "plt.rcParams['figure.figsize'] = 12, 6\n",
      "\n",
      "remove_punct_map = dict.fromkeys(map(ord, string.punctuation))"
     ],
     "language": "python",
     "metadata": {},
     "outputs": []
    },
    {
     "cell_type": "heading",
     "level": 1,
     "metadata": {},
     "source": [
      "Import Data"
     ]
    },
    {
     "cell_type": "code",
     "collapsed": false,
     "input": [
      "## Import raw data and quick look\n",
      "\n",
      "raw = pd.read_csv('data/skillwheeldata_by_groupmember.csv',parse_dates=[1])\n",
      "raw.rename(columns=lambda x: '_'.join(x.lower().split()), inplace=True)\n",
      "raw.rename(columns=lambda x: x.translate(string.maketrans(\"\",\"\"), string.punctuation), inplace=True)\n",
      "raw.set_index('id',inplace=True)\n",
      "print(raw.shape)\n",
      "raw.head()"
     ],
     "language": "python",
     "metadata": {},
     "outputs": []
    },
    {
     "cell_type": "heading",
     "level": 2,
     "metadata": {},
     "source": [
      "Explore Basics"
     ]
    },
    {
     "cell_type": "code",
     "collapsed": false,
     "input": [
      "raw.describe()"
     ],
     "language": "python",
     "metadata": {},
     "outputs": []
    },
    {
     "cell_type": "code",
     "collapsed": false,
     "input": [
      "raw.groupby('dob').size().plot()"
     ],
     "language": "python",
     "metadata": {},
     "outputs": []
    },
    {
     "cell_type": "code",
     "collapsed": false,
     "input": [
      "raw.loc[raw.dob < '1980-01-01']"
     ],
     "language": "python",
     "metadata": {},
     "outputs": []
    },
    {
     "cell_type": "code",
     "collapsed": false,
     "input": [
      "raw.loc[raw.dob > '1980-01-01'].groupby('dob').size().plot()"
     ],
     "language": "python",
     "metadata": {},
     "outputs": []
    },
    {
     "cell_type": "code",
     "collapsed": false,
     "input": [
      "raw.boxplot(column=['firstwheel','secondwheel','thirdwheel'],by='disabilityref')"
     ],
     "language": "python",
     "metadata": {},
     "outputs": []
    },
    {
     "cell_type": "code",
     "collapsed": false,
     "input": [
      "raw.boxplot(column=['firstwheel','secondwheel','thirdwheel'],by='ethnicityref')"
     ],
     "language": "python",
     "metadata": {},
     "outputs": []
    },
    {
     "cell_type": "code",
     "collapsed": false,
     "input": [],
     "language": "python",
     "metadata": {},
     "outputs": []
    },
    {
     "cell_type": "markdown",
     "metadata": {},
     "source": [
      "---"
     ]
    },
    {
     "cell_type": "markdown",
     "metadata": {},
     "source": [
      "---\n",
      "\n",
      "_copyleft_ **DataKind Dublin 2014**  \n",
      "<a href='http://www.meetup.com/DataKind-DUB/'>DataKind Dublin @ Meetup.com</a>"
     ]
    }
   ],
   "metadata": {}
  }
 ]
}